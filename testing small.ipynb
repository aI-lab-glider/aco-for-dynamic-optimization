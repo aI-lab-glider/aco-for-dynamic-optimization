{
 "cells": [
  {
   "cell_type": "code",
   "execution_count": 2,
   "metadata": {},
   "outputs": [],
   "source": [
    "%load_ext autoreload\n",
    "%autoreload 2"
   ]
  },
  {
   "cell_type": "code",
   "execution_count": 3,
   "metadata": {},
   "outputs": [],
   "source": [
    "%matplotlib widget"
   ]
  },
  {
   "cell_type": "code",
   "execution_count": 4,
   "metadata": {},
   "outputs": [],
   "source": [
    "import pandas as pd\n",
    "import os\n",
    "from pathlib import Path\n",
    "import wandb\n",
    "\n",
    "os.chdir('/home/bohdan/studies/sem8/io')\n",
    "# os.chdir('/home/ehevi/studies/io-aco/')"
   ]
  },
  {
   "cell_type": "code",
   "execution_count": 5,
   "metadata": {},
   "outputs": [
    {
     "data": {
      "text/html": [
       "<div>\n",
       "<style scoped>\n",
       "    .dataframe tbody tr th:only-of-type {\n",
       "        vertical-align: middle;\n",
       "    }\n",
       "\n",
       "    .dataframe tbody tr th {\n",
       "        vertical-align: top;\n",
       "    }\n",
       "\n",
       "    .dataframe thead th {\n",
       "        text-align: right;\n",
       "    }\n",
       "</style>\n",
       "<table border=\"1\" class=\"dataframe\">\n",
       "  <thead>\n",
       "    <tr style=\"text-align: right;\">\n",
       "      <th></th>\n",
       "      <th>cust</th>\n",
       "      <th>x</th>\n",
       "      <th>y</th>\n",
       "      <th>demand</th>\n",
       "      <th>from</th>\n",
       "      <th>to</th>\n",
       "      <th>service</th>\n",
       "    </tr>\n",
       "  </thead>\n",
       "  <tbody>\n",
       "    <tr>\n",
       "      <th>0</th>\n",
       "      <td>1</td>\n",
       "      <td>40.0</td>\n",
       "      <td>50.0</td>\n",
       "      <td>0.0</td>\n",
       "      <td>0.0</td>\n",
       "      <td>1236.0</td>\n",
       "      <td>0.0</td>\n",
       "    </tr>\n",
       "    <tr>\n",
       "      <th>1</th>\n",
       "      <td>2</td>\n",
       "      <td>45.0</td>\n",
       "      <td>68.0</td>\n",
       "      <td>10.0</td>\n",
       "      <td>912.0</td>\n",
       "      <td>967.0</td>\n",
       "      <td>90.0</td>\n",
       "    </tr>\n",
       "    <tr>\n",
       "      <th>2</th>\n",
       "      <td>3</td>\n",
       "      <td>45.0</td>\n",
       "      <td>70.0</td>\n",
       "      <td>30.0</td>\n",
       "      <td>825.0</td>\n",
       "      <td>870.0</td>\n",
       "      <td>90.0</td>\n",
       "    </tr>\n",
       "    <tr>\n",
       "      <th>3</th>\n",
       "      <td>4</td>\n",
       "      <td>42.0</td>\n",
       "      <td>66.0</td>\n",
       "      <td>10.0</td>\n",
       "      <td>65.0</td>\n",
       "      <td>146.0</td>\n",
       "      <td>90.0</td>\n",
       "    </tr>\n",
       "    <tr>\n",
       "      <th>4</th>\n",
       "      <td>5</td>\n",
       "      <td>42.0</td>\n",
       "      <td>68.0</td>\n",
       "      <td>10.0</td>\n",
       "      <td>727.0</td>\n",
       "      <td>782.0</td>\n",
       "      <td>90.0</td>\n",
       "    </tr>\n",
       "  </tbody>\n",
       "</table>\n",
       "</div>"
      ],
      "text/plain": [
       "   cust     x     y  demand   from      to  service\n",
       "0     1  40.0  50.0     0.0    0.0  1236.0      0.0\n",
       "1     2  45.0  68.0    10.0  912.0   967.0     90.0\n",
       "2     3  45.0  70.0    30.0  825.0   870.0     90.0\n",
       "3     4  42.0  66.0    10.0   65.0   146.0     90.0\n",
       "4     5  42.0  68.0    10.0  727.0   782.0     90.0"
      ]
     },
     "execution_count": 5,
     "metadata": {},
     "output_type": "execute_result"
    }
   ],
   "source": [
    "csv_path = Path('small.csv')\n",
    "problem = pd.read_csv(csv_path)\n",
    "problem.head()\n"
   ]
  },
  {
   "attachments": {},
   "cell_type": "markdown",
   "metadata": {},
   "source": [
    "1. Uruchomić\n",
    " - dostosowanie do naszych danych\n",
    " \n",
    "2. Dodać modyfikacje\n",
    "- dodajemy do mrówki wiedzę o depocie oraz o pojemności\n",
    "- mrówka po osiągnięciu maks pojemności wraca do początku\n",
    "\n"
   ]
  },
  {
   "cell_type": "code",
   "execution_count": 6,
   "metadata": {},
   "outputs": [
    {
     "name": "stderr",
     "output_type": "stream",
     "text": [
      "Failed to detect the name of this notebook, you can set it manually with the WANDB_NOTEBOOK_NAME environment variable to enable code saving.\n",
      "\u001b[34m\u001b[1mwandb\u001b[0m: Currently logged in as: \u001b[33mbohdanforostianyi\u001b[0m (\u001b[33mglider-agh\u001b[0m). Use \u001b[1m`wandb login --relogin`\u001b[0m to force relogin\n"
     ]
    },
    {
     "data": {
      "text/html": [
       "wandb version 0.15.3 is available!  To upgrade, please run:\n",
       " $ pip install wandb --upgrade"
      ],
      "text/plain": [
       "<IPython.core.display.HTML object>"
      ]
     },
     "metadata": {},
     "output_type": "display_data"
    },
    {
     "data": {
      "text/html": [
       "Tracking run with wandb version 0.15.0"
      ],
      "text/plain": [
       "<IPython.core.display.HTML object>"
      ]
     },
     "metadata": {},
     "output_type": "display_data"
    },
    {
     "data": {
      "text/html": [
       "Run data is saved locally in <code>/home/bohdan/studies/sem8/io/wandb/run-20230602_133142-1bnux2rd</code>"
      ],
      "text/plain": [
       "<IPython.core.display.HTML object>"
      ]
     },
     "metadata": {},
     "output_type": "display_data"
    },
    {
     "data": {
      "text/html": [
       "Syncing run <strong><a href='https://wandb.ai/glider-agh/dynamic%20aco/runs/1bnux2rd' target=\"_blank\">golden-monkey-191</a></strong> to <a href='https://wandb.ai/glider-agh/dynamic%20aco' target=\"_blank\">Weights & Biases</a> (<a href='https://wandb.me/run' target=\"_blank\">docs</a>)<br/>"
      ],
      "text/plain": [
       "<IPython.core.display.HTML object>"
      ]
     },
     "metadata": {},
     "output_type": "display_data"
    },
    {
     "data": {
      "text/html": [
       " View project at <a href='https://wandb.ai/glider-agh/dynamic%20aco' target=\"_blank\">https://wandb.ai/glider-agh/dynamic%20aco</a>"
      ],
      "text/plain": [
       "<IPython.core.display.HTML object>"
      ]
     },
     "metadata": {},
     "output_type": "display_data"
    },
    {
     "data": {
      "text/html": [
       " View run at <a href='https://wandb.ai/glider-agh/dynamic%20aco/runs/1bnux2rd' target=\"_blank\">https://wandb.ai/glider-agh/dynamic%20aco/runs/1bnux2rd</a>"
      ],
      "text/plain": [
       "<IPython.core.display.HTML object>"
      ]
     },
     "metadata": {},
     "output_type": "display_data"
    }
   ],
   "source": [
    "from swarmlib_.aco4tsp.aco_algorithm import ACOAlgorithm\n",
    "from swarmlib_.aco4tsp.vehicle import Vehicle\n",
    "import numpy as np\n",
    "from itertools import product\n",
    "\n",
    "vehicles = [Vehicle(50, 1) for _ in range(10)]\n",
    "config = {\n",
    "    'ant_number': 5,\n",
    "    'num_vehicles': 10,\n",
    "    'iteration_number': 400,\n",
    "    'capacity': 50,\n",
    "    'commit_freq': 10,\n",
    "    'vehicles': vehicles,\n",
    "    'instance_path': csv_path,\n",
    "    'rho': 0.5,\n",
    "    'alpha': 0.5,\n",
    "    'beta': 0.5,\n",
    "}\n",
    "\n",
    "import random\n",
    "random.seed(42)\n",
    "for alpha, rho, beta in product(np.arange(0.1, 1, 0.3), np.arange(0.1, 1, 0.3), np.arange(0.1, 1, 0.3)):\n",
    "    wandb.init(\n",
    "        project=\"dynamic aco\",\n",
    "        project=\"dynamic aco\",\n",
    "        config={\n",
    "            **config,\n",
    "            'rho': rho,\n",
    "            'alpha': alpha,\n",
    "            'beta': beta,\n",
    "        },\n",
    "        tags=[f'01-06-2023-custom-scenario-small']\n",
    "    )\n",
    "    # Logic goes here\n",
    "    try:\n",
    "        solver = ACOAlgorithm(**config, scenario_input_file='scenario.csv')\n",
    "        best_plan, _ = solver.solve()\n",
    "    finally:\n",
    "        wandb.finish()"
   ]
  },
  {
   "attachments": {},
   "cell_type": "markdown",
   "metadata": {},
   "source": [
    "# TODO\n",
    "\n",
    "[ ] Poprawić wykresy funkcji kosztu:\n",
    "\n",
    "* Powinien zawierać dwie wartości: \n",
    "    - aktualny koszt\n",
    "    - najlepszy do tej pory znaleziony koszt\n",
    "\n",
    "* Powinien mieć podpisane osie \n",
    "\n",
    "\n",
    "\n",
    "[ ] Zrozumienie (razem) i zaimplementowanie trzech metryk diversity tablice feromonów o których Byrski mówi w swoim artykule https://journals.agh.edu.pl/csci/article/view/4301\n",
    "\n",
    "\n",
    "[ ] Przeszkuanie artykułów dot. mrówek do dynamicznego VRP\n",
    "\n",
    "\n",
    "----------------------------------\n",
    "- Jak pokazać, że coś się adaptuje?\n",
    "- Funkcja kosztu jest czymś innym niż funkcja adaptacji \n",
    "\n",
    "\n",
    "\n",
    "-----\n",
    "\n",
    "[ ] Dodajemy commitment (każdy pojazd będzie miał swoją prędkość per iterację)\n",
    "\n",
    "[ ] Trasa do przejechania (po komitmencie) jest funkcją kosztu\n",
    "\n",
    "\n",
    "\n",
    "\n",
    "\n",
    "\n"
   ]
  }
 ],
 "metadata": {
  "kernelspec": {
   "display_name": "lux_ai",
   "language": "python",
   "name": "python3"
  },
  "language_info": {
   "codemirror_mode": {
    "name": "ipython",
    "version": 3
   },
   "file_extension": ".py",
   "mimetype": "text/x-python",
   "name": "python",
   "nbconvert_exporter": "python",
   "pygments_lexer": "ipython3",
   "version": "3.9.16"
  },
  "orig_nbformat": 4
 },
 "nbformat": 4,
 "nbformat_minor": 2
}
