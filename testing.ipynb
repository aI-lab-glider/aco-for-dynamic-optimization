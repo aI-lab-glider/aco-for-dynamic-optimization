{
 "cells": [
  {
   "cell_type": "code",
   "execution_count": 1,
   "metadata": {},
   "outputs": [],
   "source": [
    "%load_ext autoreload\n",
    "%autoreload 2"
   ]
  },
  {
   "cell_type": "code",
   "execution_count": 2,
   "metadata": {},
   "outputs": [],
   "source": [
    "%matplotlib widget"
   ]
  },
  {
   "cell_type": "code",
   "execution_count": 3,
   "metadata": {},
   "outputs": [],
   "source": [
    "import pandas as pd\n",
    "import os\n",
    "from pathlib import Path\n",
    "import wandb\n",
    "\n",
    "os.chdir('/home/bohdan/studies/sem8/io')\n",
    "# os.chdir('/home/ehevi/studies/io-aco/')"
   ]
  },
  {
   "cell_type": "code",
   "execution_count": 4,
   "metadata": {},
   "outputs": [
    {
     "data": {
      "text/html": [
       "<div>\n",
       "<style scoped>\n",
       "    .dataframe tbody tr th:only-of-type {\n",
       "        vertical-align: middle;\n",
       "    }\n",
       "\n",
       "    .dataframe tbody tr th {\n",
       "        vertical-align: top;\n",
       "    }\n",
       "\n",
       "    .dataframe thead th {\n",
       "        text-align: right;\n",
       "    }\n",
       "</style>\n",
       "<table border=\"1\" class=\"dataframe\">\n",
       "  <thead>\n",
       "    <tr style=\"text-align: right;\">\n",
       "      <th></th>\n",
       "      <th>cust</th>\n",
       "      <th>x</th>\n",
       "      <th>y</th>\n",
       "      <th>demand</th>\n",
       "      <th>from</th>\n",
       "      <th>to</th>\n",
       "      <th>service</th>\n",
       "    </tr>\n",
       "  </thead>\n",
       "  <tbody>\n",
       "    <tr>\n",
       "      <th>0</th>\n",
       "      <td>1</td>\n",
       "      <td>40.0</td>\n",
       "      <td>50.0</td>\n",
       "      <td>0.0</td>\n",
       "      <td>0.0</td>\n",
       "      <td>1236.0</td>\n",
       "      <td>0.0</td>\n",
       "    </tr>\n",
       "    <tr>\n",
       "      <th>1</th>\n",
       "      <td>2</td>\n",
       "      <td>45.0</td>\n",
       "      <td>68.0</td>\n",
       "      <td>10.0</td>\n",
       "      <td>912.0</td>\n",
       "      <td>967.0</td>\n",
       "      <td>90.0</td>\n",
       "    </tr>\n",
       "    <tr>\n",
       "      <th>2</th>\n",
       "      <td>3</td>\n",
       "      <td>45.0</td>\n",
       "      <td>70.0</td>\n",
       "      <td>30.0</td>\n",
       "      <td>825.0</td>\n",
       "      <td>870.0</td>\n",
       "      <td>90.0</td>\n",
       "    </tr>\n",
       "    <tr>\n",
       "      <th>3</th>\n",
       "      <td>4</td>\n",
       "      <td>42.0</td>\n",
       "      <td>66.0</td>\n",
       "      <td>10.0</td>\n",
       "      <td>65.0</td>\n",
       "      <td>146.0</td>\n",
       "      <td>90.0</td>\n",
       "    </tr>\n",
       "    <tr>\n",
       "      <th>4</th>\n",
       "      <td>5</td>\n",
       "      <td>42.0</td>\n",
       "      <td>68.0</td>\n",
       "      <td>10.0</td>\n",
       "      <td>727.0</td>\n",
       "      <td>782.0</td>\n",
       "      <td>90.0</td>\n",
       "    </tr>\n",
       "  </tbody>\n",
       "</table>\n",
       "</div>"
      ],
      "text/plain": [
       "   cust     x     y  demand   from      to  service\n",
       "0     1  40.0  50.0     0.0    0.0  1236.0      0.0\n",
       "1     2  45.0  68.0    10.0  912.0   967.0     90.0\n",
       "2     3  45.0  70.0    30.0  825.0   870.0     90.0\n",
       "3     4  42.0  66.0    10.0   65.0   146.0     90.0\n",
       "4     5  42.0  68.0    10.0  727.0   782.0     90.0"
      ]
     },
     "execution_count": 4,
     "metadata": {},
     "output_type": "execute_result"
    }
   ],
   "source": [
    "csv_path = Path('small.csv')\n",
    "problem = pd.read_csv(csv_path)\n",
    "problem.head()\n"
   ]
  },
  {
   "attachments": {},
   "cell_type": "markdown",
   "metadata": {},
   "source": [
    "1. Uruchomić\n",
    " - dostosowanie do naszych danych\n",
    " \n",
    "2. Dodać modyfikacje\n",
    "- dodajemy do mrówki wiedzę o depocie oraz o pojemności\n",
    "- mrówka po osiągnięciu maks pojemności wraca do początku\n",
    "\n"
   ]
  },
  {
   "cell_type": "code",
   "execution_count": 5,
   "metadata": {},
   "outputs": [],
   "source": [
    "import random\n",
    "from swarmlib_.aco4tsp.aco_algorithm import ACOAlgorithm\n",
    "from swarmlib_.aco4tsp.vehicle import Vehicle\n",
    "import numpy as np\n",
    "from itertools import product\n",
    "\n",
    "def evaluate_scenario(path: Path):\n",
    "    vehicles = [Vehicle(50, 1) for _ in range(10)]\n",
    "    config = {\n",
    "        'ant_number': 5,\n",
    "        'num_vehicles': 10,\n",
    "        'iteration_number': 500,\n",
    "        'capacity': 50,\n",
    "        'commit_freq': 10,\n",
    "        'vehicles': vehicles,\n",
    "        'instance_path': 'small.csv',\n",
    "        'rho': 0.5,\n",
    "        'alpha': 0.5,\n",
    "        'beta': 0.5,\n",
    "    }\n",
    "\n",
    "    \n",
    "    random.seed(42)\n",
    "    for alpha, rho, beta in product(np.arange(0.1, 1, 0.3), np.arange(0.1, 1, 0.3), np.arange(0.1, 1, 0.3)):\n",
    "        wandb.init(\n",
    "            project=\"dynamic aco\",\n",
    "            config={\n",
    "                **config,\n",
    "                'rho': rho,\n",
    "                'alpha': alpha,\n",
    "                'beta': beta,\n",
    "            },\n",
    "            tags=[f'03-06-2023-{path.stem}']\n",
    "        )\n",
    "        # Logic goes here\n",
    "        try:\n",
    "            solver = ACOAlgorithm(**config, scenario_input_file=path)\n",
    "            best_plan, _ = solver.solve()\n",
    "        finally:\n",
    "            wandb.finish()\n"
   ]
  },
  {
   "cell_type": "code",
   "execution_count": 6,
   "metadata": {},
   "outputs": [
    {
     "name": "stderr",
     "output_type": "stream",
     "text": [
      "Failed to detect the name of this notebook, you can set it manually with the WANDB_NOTEBOOK_NAME environment variable to enable code saving.\n",
      "\u001b[34m\u001b[1mwandb\u001b[0m: Currently logged in as: \u001b[33mbohdanforostianyi\u001b[0m (\u001b[33mglider-agh\u001b[0m). Use \u001b[1m`wandb login --relogin`\u001b[0m to force relogin\n"
     ]
    },
    {
     "data": {
      "text/html": [
       "wandb version 0.15.3 is available!  To upgrade, please run:\n",
       " $ pip install wandb --upgrade"
      ],
      "text/plain": [
       "<IPython.core.display.HTML object>"
      ]
     },
     "metadata": {},
     "output_type": "display_data"
    },
    {
     "data": {
      "text/html": [
       "Tracking run with wandb version 0.15.0"
      ],
      "text/plain": [
       "<IPython.core.display.HTML object>"
      ]
     },
     "metadata": {},
     "output_type": "display_data"
    },
    {
     "data": {
      "text/html": [
       "Run data is saved locally in <code>/home/bohdan/studies/sem8/io/wandb/run-20230603_192225-5jpo0i5b</code>"
      ],
      "text/plain": [
       "<IPython.core.display.HTML object>"
      ]
     },
     "metadata": {},
     "output_type": "display_data"
    },
    {
     "data": {
      "text/html": [
       "Syncing run <strong><a href='https://wandb.ai/glider-agh/dynamic%20aco/runs/5jpo0i5b' target=\"_blank\">worldly-silence-211</a></strong> to <a href='https://wandb.ai/glider-agh/dynamic%20aco' target=\"_blank\">Weights & Biases</a> (<a href='https://wandb.me/run' target=\"_blank\">docs</a>)<br/>"
      ],
      "text/plain": [
       "<IPython.core.display.HTML object>"
      ]
     },
     "metadata": {},
     "output_type": "display_data"
    },
    {
     "data": {
      "text/html": [
       " View project at <a href='https://wandb.ai/glider-agh/dynamic%20aco' target=\"_blank\">https://wandb.ai/glider-agh/dynamic%20aco</a>"
      ],
      "text/plain": [
       "<IPython.core.display.HTML object>"
      ]
     },
     "metadata": {},
     "output_type": "display_data"
    },
    {
     "data": {
      "text/html": [
       " View run at <a href='https://wandb.ai/glider-agh/dynamic%20aco/runs/5jpo0i5b' target=\"_blank\">https://wandb.ai/glider-agh/dynamic%20aco/runs/5jpo0i5b</a>"
      ],
      "text/plain": [
       "<IPython.core.display.HTML object>"
      ]
     },
     "metadata": {},
     "output_type": "display_data"
    },
    {
     "data": {
      "text/html": [
       "Waiting for W&B process to finish... <strong style=\"color:green\">(success).</strong>"
      ],
      "text/plain": [
       "<IPython.core.display.HTML object>"
      ]
     },
     "metadata": {},
     "output_type": "display_data"
    },
    {
     "data": {
      "application/vnd.jupyter.widget-view+json": {
       "model_id": "c28f19139a8d4a29a55a3a91ddcc549c",
       "version_major": 2,
       "version_minor": 0
      },
      "text/plain": [
       "VBox(children=(Label(value='0.002 MB of 0.011 MB uploaded (0.000 MB deduped)\\r'), FloatProgress(value=0.145402…"
      ]
     },
     "metadata": {},
     "output_type": "display_data"
    },
    {
     "data": {
      "text/html": [
       " View run <strong style=\"color:#cdcd00\">worldly-silence-211</strong> at: <a href='https://wandb.ai/glider-agh/dynamic%20aco/runs/5jpo0i5b' target=\"_blank\">https://wandb.ai/glider-agh/dynamic%20aco/runs/5jpo0i5b</a><br/>Synced 5 W&B file(s), 0 media file(s), 0 artifact file(s) and 0 other file(s)"
      ],
      "text/plain": [
       "<IPython.core.display.HTML object>"
      ]
     },
     "metadata": {},
     "output_type": "display_data"
    },
    {
     "data": {
      "text/html": [
       "Find logs at: <code>./wandb/run-20230603_192225-5jpo0i5b/logs</code>"
      ],
      "text/plain": [
       "<IPython.core.display.HTML object>"
      ]
     },
     "metadata": {},
     "output_type": "display_data"
    },
    {
     "ename": "KeyError",
     "evalue": "'cust'",
     "output_type": "error",
     "traceback": [
      "\u001b[0;31m---------------------------------------------------------------------------\u001b[0m",
      "\u001b[0;31mKeyError\u001b[0m                                  Traceback (most recent call last)",
      "File \u001b[0;32m~/Soft/conda/envs/lux_ai/lib/python3.9/site-packages/pandas/core/indexes/base.py:3802\u001b[0m, in \u001b[0;36mIndex.get_loc\u001b[0;34m(self, key, method, tolerance)\u001b[0m\n\u001b[1;32m   3801\u001b[0m \u001b[39mtry\u001b[39;00m:\n\u001b[0;32m-> 3802\u001b[0m     \u001b[39mreturn\u001b[39;00m \u001b[39mself\u001b[39;49m\u001b[39m.\u001b[39;49m_engine\u001b[39m.\u001b[39;49mget_loc(casted_key)\n\u001b[1;32m   3803\u001b[0m \u001b[39mexcept\u001b[39;00m \u001b[39mKeyError\u001b[39;00m \u001b[39mas\u001b[39;00m err:\n",
      "File \u001b[0;32m~/Soft/conda/envs/lux_ai/lib/python3.9/site-packages/pandas/_libs/index.pyx:138\u001b[0m, in \u001b[0;36mpandas._libs.index.IndexEngine.get_loc\u001b[0;34m()\u001b[0m\n",
      "File \u001b[0;32m~/Soft/conda/envs/lux_ai/lib/python3.9/site-packages/pandas/_libs/index.pyx:165\u001b[0m, in \u001b[0;36mpandas._libs.index.IndexEngine.get_loc\u001b[0;34m()\u001b[0m\n",
      "File \u001b[0;32mpandas/_libs/hashtable_class_helper.pxi:5745\u001b[0m, in \u001b[0;36mpandas._libs.hashtable.PyObjectHashTable.get_item\u001b[0;34m()\u001b[0m\n",
      "File \u001b[0;32mpandas/_libs/hashtable_class_helper.pxi:5753\u001b[0m, in \u001b[0;36mpandas._libs.hashtable.PyObjectHashTable.get_item\u001b[0;34m()\u001b[0m\n",
      "\u001b[0;31mKeyError\u001b[0m: 'cust'",
      "\nThe above exception was the direct cause of the following exception:\n",
      "\u001b[0;31mKeyError\u001b[0m                                  Traceback (most recent call last)",
      "Cell \u001b[0;32mIn[6], line 2\u001b[0m\n\u001b[1;32m      1\u001b[0m \u001b[39mfor\u001b[39;00m scenario \u001b[39min\u001b[39;00m [\u001b[39m'\u001b[39m\u001b[39mscenario_mix.csv\u001b[39m\u001b[39m'\u001b[39m, \u001b[39m'\u001b[39m\u001b[39mscenario_decrease.csv\u001b[39m\u001b[39m'\u001b[39m]:\n\u001b[0;32m----> 2\u001b[0m     evaluate_scenario(Path(scenario))\n",
      "Cell \u001b[0;32mIn[5], line 37\u001b[0m, in \u001b[0;36mevaluate_scenario\u001b[0;34m(path)\u001b[0m\n\u001b[1;32m     35\u001b[0m \u001b[39m# Logic goes here\u001b[39;00m\n\u001b[1;32m     36\u001b[0m \u001b[39mtry\u001b[39;00m:\n\u001b[0;32m---> 37\u001b[0m     solver \u001b[39m=\u001b[39m ACOAlgorithm(\u001b[39m*\u001b[39;49m\u001b[39m*\u001b[39;49mconfig, scenario_input_file\u001b[39m=\u001b[39;49m\u001b[39m'\u001b[39;49m\u001b[39mscenario.csv\u001b[39;49m\u001b[39m'\u001b[39;49m)\n\u001b[1;32m     38\u001b[0m     best_plan, _ \u001b[39m=\u001b[39m solver\u001b[39m.\u001b[39msolve()\n\u001b[1;32m     39\u001b[0m \u001b[39mfinally\u001b[39;00m:\n",
      "File \u001b[0;32m~/studies/sem8/io/swarmlib_/aco4tsp/aco_algorithm.py:48\u001b[0m, in \u001b[0;36mACOAlgorithm.__init__\u001b[0;34m(self, instance_path, vehicles, commit_freq, capacity, scenario_input_file, **kwargs)\u001b[0m\n\u001b[1;32m     45\u001b[0m \u001b[39msuper\u001b[39m()\u001b[39m.\u001b[39m\u001b[39m__init__\u001b[39m(\u001b[39m*\u001b[39m\u001b[39m*\u001b[39mkwargs)\n\u001b[1;32m     46\u001b[0m \u001b[39mself\u001b[39m\u001b[39m.\u001b[39m_ant_number \u001b[39m=\u001b[39m kwargs[\u001b[39m'\u001b[39m\u001b[39mant_number\u001b[39m\u001b[39m'\u001b[39m]  \u001b[39m# Number of ants\u001b[39;00m\n\u001b[0;32m---> 48\u001b[0m \u001b[39mself\u001b[39m\u001b[39m.\u001b[39m_env \u001b[39m=\u001b[39m DynamicVrpEnv(instance_path, scenario_input_file\u001b[39m=\u001b[39;49mscenario_input_file)\n\u001b[1;32m     49\u001b[0m \u001b[39mself\u001b[39m\u001b[39m.\u001b[39m_rho \u001b[39m=\u001b[39m kwargs\u001b[39m.\u001b[39mget(\u001b[39m'\u001b[39m\u001b[39mrho\u001b[39m\u001b[39m'\u001b[39m, \u001b[39m0.5\u001b[39m)  \u001b[39m# evaporation rate\u001b[39;00m\n\u001b[1;32m     50\u001b[0m \u001b[39mself\u001b[39m\u001b[39m.\u001b[39m_alpha \u001b[39m=\u001b[39m kwargs\u001b[39m.\u001b[39mget(\u001b[39m'\u001b[39m\u001b[39malpha\u001b[39m\u001b[39m'\u001b[39m, \u001b[39m0.5\u001b[39m)  \u001b[39m# used for edge detection\u001b[39;00m\n",
      "File \u001b[0;32m~/studies/sem8/io/swarmlib_/aco4tsp/dynamic_vrp_env/env.py:30\u001b[0m, in \u001b[0;36mDynamicVrpEnv.__init__\u001b[0;34m(self, data_file, scenario_input_file)\u001b[0m\n\u001b[1;32m     28\u001b[0m \u001b[39melse\u001b[39;00m:\n\u001b[1;32m     29\u001b[0m     \u001b[39mself\u001b[39m\u001b[39m.\u001b[39m_scenario \u001b[39m=\u001b[39m \u001b[39mNone\u001b[39;00m\n\u001b[0;32m---> 30\u001b[0m \u001b[39mself\u001b[39m\u001b[39m.\u001b[39m_routes_graph \u001b[39m=\u001b[39m RoutesGraph(\u001b[39mself\u001b[39;49m\u001b[39m.\u001b[39;49m_initial_df)\n\u001b[1;32m     31\u001b[0m \u001b[39mself\u001b[39m\u001b[39m.\u001b[39m_history \u001b[39m=\u001b[39m pd\u001b[39m.\u001b[39mDataFrame()\n",
      "File \u001b[0;32m~/studies/sem8/io/swarmlib_/aco4tsp/dynamic_vrp_env/routes_graph.py:47\u001b[0m, in \u001b[0;36mRoutesGraph.__init__\u001b[0;34m(self, df)\u001b[0m\n\u001b[1;32m     45\u001b[0m \u001b[39mself\u001b[39m\u001b[39m.\u001b[39mdepot \u001b[39m=\u001b[39m \u001b[39m1\u001b[39m\n\u001b[1;32m     46\u001b[0m \u001b[39mself\u001b[39m\u001b[39m.\u001b[39m_df \u001b[39m=\u001b[39m df\n\u001b[0;32m---> 47\u001b[0m \u001b[39mself\u001b[39m\u001b[39m.\u001b[39mnetworkx_graph \u001b[39m=\u001b[39m \u001b[39mself\u001b[39;49m\u001b[39m.\u001b[39;49m_create_graph(df)\n\u001b[1;32m     48\u001b[0m \u001b[39mself\u001b[39m\u001b[39m.\u001b[39m__lock \u001b[39m=\u001b[39m RLock()\n",
      "File \u001b[0;32m~/studies/sem8/io/swarmlib_/aco4tsp/dynamic_vrp_env/routes_graph.py:59\u001b[0m, in \u001b[0;36mRoutesGraph._create_graph\u001b[0;34m(self, df)\u001b[0m\n\u001b[1;32m     57\u001b[0m G\u001b[39m.\u001b[39mgraph[\u001b[39m'\u001b[39m\u001b[39mname\u001b[39m\u001b[39m'\u001b[39m] \u001b[39m=\u001b[39m \u001b[39m'\u001b[39m\u001b[39mACO\u001b[39m\u001b[39m'\u001b[39m\n\u001b[1;32m     58\u001b[0m \u001b[39m# set up a map from original node name to new node name\u001b[39;00m\n\u001b[0;32m---> 59\u001b[0m nodes \u001b[39m=\u001b[39m \u001b[39mlist\u001b[39m(df[\u001b[39m'\u001b[39;49m\u001b[39mcust\u001b[39;49m\u001b[39m'\u001b[39;49m]\u001b[39m.\u001b[39mto_list())\n\u001b[1;32m     60\u001b[0m names \u001b[39m=\u001b[39m {n: n \u001b[39mfor\u001b[39;00m n \u001b[39min\u001b[39;00m nodes}\n\u001b[1;32m     62\u001b[0m coords \u001b[39m=\u001b[39m \u001b[39mself\u001b[39m\u001b[39m.\u001b[39m_get_coords()\n",
      "File \u001b[0;32m~/Soft/conda/envs/lux_ai/lib/python3.9/site-packages/pandas/core/frame.py:3807\u001b[0m, in \u001b[0;36mDataFrame.__getitem__\u001b[0;34m(self, key)\u001b[0m\n\u001b[1;32m   3805\u001b[0m \u001b[39mif\u001b[39;00m \u001b[39mself\u001b[39m\u001b[39m.\u001b[39mcolumns\u001b[39m.\u001b[39mnlevels \u001b[39m>\u001b[39m \u001b[39m1\u001b[39m:\n\u001b[1;32m   3806\u001b[0m     \u001b[39mreturn\u001b[39;00m \u001b[39mself\u001b[39m\u001b[39m.\u001b[39m_getitem_multilevel(key)\n\u001b[0;32m-> 3807\u001b[0m indexer \u001b[39m=\u001b[39m \u001b[39mself\u001b[39;49m\u001b[39m.\u001b[39;49mcolumns\u001b[39m.\u001b[39;49mget_loc(key)\n\u001b[1;32m   3808\u001b[0m \u001b[39mif\u001b[39;00m is_integer(indexer):\n\u001b[1;32m   3809\u001b[0m     indexer \u001b[39m=\u001b[39m [indexer]\n",
      "File \u001b[0;32m~/Soft/conda/envs/lux_ai/lib/python3.9/site-packages/pandas/core/indexes/base.py:3804\u001b[0m, in \u001b[0;36mIndex.get_loc\u001b[0;34m(self, key, method, tolerance)\u001b[0m\n\u001b[1;32m   3802\u001b[0m     \u001b[39mreturn\u001b[39;00m \u001b[39mself\u001b[39m\u001b[39m.\u001b[39m_engine\u001b[39m.\u001b[39mget_loc(casted_key)\n\u001b[1;32m   3803\u001b[0m \u001b[39mexcept\u001b[39;00m \u001b[39mKeyError\u001b[39;00m \u001b[39mas\u001b[39;00m err:\n\u001b[0;32m-> 3804\u001b[0m     \u001b[39mraise\u001b[39;00m \u001b[39mKeyError\u001b[39;00m(key) \u001b[39mfrom\u001b[39;00m \u001b[39merr\u001b[39;00m\n\u001b[1;32m   3805\u001b[0m \u001b[39mexcept\u001b[39;00m \u001b[39mTypeError\u001b[39;00m:\n\u001b[1;32m   3806\u001b[0m     \u001b[39m# If we have a listlike key, _check_indexing_error will raise\u001b[39;00m\n\u001b[1;32m   3807\u001b[0m     \u001b[39m#  InvalidIndexError. Otherwise we fall through and re-raise\u001b[39;00m\n\u001b[1;32m   3808\u001b[0m     \u001b[39m#  the TypeError.\u001b[39;00m\n\u001b[1;32m   3809\u001b[0m     \u001b[39mself\u001b[39m\u001b[39m.\u001b[39m_check_indexing_error(key)\n",
      "\u001b[0;31mKeyError\u001b[0m: 'cust'"
     ]
    }
   ],
   "source": [
    "for scenario in ['scenario_mix.csv', 'scenario_decrease.csv']:\n",
    "    evaluate_scenario(Path(scenario))"
   ]
  },
  {
   "cell_type": "markdown",
   "metadata": {},
   "source": []
  }
 ],
 "metadata": {
  "kernelspec": {
   "display_name": "lux_ai",
   "language": "python",
   "name": "python3"
  },
  "language_info": {
   "codemirror_mode": {
    "name": "ipython",
    "version": 3
   },
   "file_extension": ".py",
   "mimetype": "text/x-python",
   "name": "python",
   "nbconvert_exporter": "python",
   "pygments_lexer": "ipython3",
   "version": "3.9.16"
  },
  "orig_nbformat": 4
 },
 "nbformat": 4,
 "nbformat_minor": 2
}
