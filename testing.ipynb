{
 "cells": [
  {
   "cell_type": "code",
   "execution_count": 1,
   "metadata": {},
   "outputs": [],
   "source": [
    "%load_ext autoreload\n",
    "%autoreload 2"
   ]
  },
  {
   "cell_type": "code",
   "execution_count": 2,
   "metadata": {},
   "outputs": [],
   "source": [
    "%matplotlib widget"
   ]
  },
  {
   "cell_type": "code",
   "execution_count": 3,
   "metadata": {},
   "outputs": [],
   "source": [
    "import pandas as pd\n",
    "import os\n",
    "from pathlib import Path\n",
    "import wandb\n",
    "\n",
    "os.chdir('/home/bohdan/studies/sem8/io')\n",
    "# os.chdir('/home/ehevi/studies/io-aco/')"
   ]
  },
  {
   "cell_type": "code",
   "execution_count": 4,
   "metadata": {},
   "outputs": [
    {
     "data": {
      "text/html": [
       "<div>\n",
       "<style scoped>\n",
       "    .dataframe tbody tr th:only-of-type {\n",
       "        vertical-align: middle;\n",
       "    }\n",
       "\n",
       "    .dataframe tbody tr th {\n",
       "        vertical-align: top;\n",
       "    }\n",
       "\n",
       "    .dataframe thead th {\n",
       "        text-align: right;\n",
       "    }\n",
       "</style>\n",
       "<table border=\"1\" class=\"dataframe\">\n",
       "  <thead>\n",
       "    <tr style=\"text-align: right;\">\n",
       "      <th></th>\n",
       "      <th>cust</th>\n",
       "      <th>x</th>\n",
       "      <th>y</th>\n",
       "      <th>demand</th>\n",
       "      <th>from</th>\n",
       "      <th>to</th>\n",
       "      <th>service</th>\n",
       "    </tr>\n",
       "  </thead>\n",
       "  <tbody>\n",
       "    <tr>\n",
       "      <th>0</th>\n",
       "      <td>1</td>\n",
       "      <td>40.0</td>\n",
       "      <td>50.0</td>\n",
       "      <td>0.0</td>\n",
       "      <td>0.0</td>\n",
       "      <td>1236.0</td>\n",
       "      <td>0.0</td>\n",
       "    </tr>\n",
       "    <tr>\n",
       "      <th>1</th>\n",
       "      <td>2</td>\n",
       "      <td>45.0</td>\n",
       "      <td>68.0</td>\n",
       "      <td>10.0</td>\n",
       "      <td>912.0</td>\n",
       "      <td>967.0</td>\n",
       "      <td>90.0</td>\n",
       "    </tr>\n",
       "    <tr>\n",
       "      <th>2</th>\n",
       "      <td>3</td>\n",
       "      <td>45.0</td>\n",
       "      <td>70.0</td>\n",
       "      <td>30.0</td>\n",
       "      <td>825.0</td>\n",
       "      <td>870.0</td>\n",
       "      <td>90.0</td>\n",
       "    </tr>\n",
       "    <tr>\n",
       "      <th>3</th>\n",
       "      <td>4</td>\n",
       "      <td>42.0</td>\n",
       "      <td>66.0</td>\n",
       "      <td>10.0</td>\n",
       "      <td>65.0</td>\n",
       "      <td>146.0</td>\n",
       "      <td>90.0</td>\n",
       "    </tr>\n",
       "    <tr>\n",
       "      <th>4</th>\n",
       "      <td>5</td>\n",
       "      <td>42.0</td>\n",
       "      <td>68.0</td>\n",
       "      <td>10.0</td>\n",
       "      <td>727.0</td>\n",
       "      <td>782.0</td>\n",
       "      <td>90.0</td>\n",
       "    </tr>\n",
       "  </tbody>\n",
       "</table>\n",
       "</div>"
      ],
      "text/plain": [
       "   cust     x     y  demand   from      to  service\n",
       "0     1  40.0  50.0     0.0    0.0  1236.0      0.0\n",
       "1     2  45.0  68.0    10.0  912.0   967.0     90.0\n",
       "2     3  45.0  70.0    30.0  825.0   870.0     90.0\n",
       "3     4  42.0  66.0    10.0   65.0   146.0     90.0\n",
       "4     5  42.0  68.0    10.0  727.0   782.0     90.0"
      ]
     },
     "execution_count": 4,
     "metadata": {},
     "output_type": "execute_result"
    }
   ],
   "source": [
    "csv_path = Path('small.csv')\n",
    "problem = pd.read_csv(csv_path)\n",
    "problem.head()\n"
   ]
  },
  {
   "attachments": {},
   "cell_type": "markdown",
   "metadata": {},
   "source": [
    "1. Uruchomić\n",
    " - dostosowanie do naszych danych\n",
    " \n",
    "2. Dodać modyfikacje\n",
    "- dodajemy do mrówki wiedzę o depocie oraz o pojemności\n",
    "- mrówka po osiągnięciu maks pojemności wraca do początku\n",
    "\n"
   ]
  },
  {
   "cell_type": "code",
   "execution_count": 7,
   "metadata": {},
   "outputs": [],
   "source": [
    "import random\n",
    "from swarmlib_.aco4tsp.aco_algorithm import ACOAlgorithm\n",
    "from swarmlib_.aco4tsp.vehicle import Vehicle\n",
    "import numpy as np\n",
    "from itertools import product\n",
    "\n",
    "def evaluate_scenario(path: Path):\n",
    "    vehicles = [Vehicle(50, 1) for _ in range(10)]\n",
    "    config = {\n",
    "        'ant_number': 5,\n",
    "        'num_vehicles': 10,\n",
    "        'iteration_number': 500,\n",
    "        'capacity': 50,\n",
    "        'commit_freq': 10,\n",
    "        'vehicles': vehicles,\n",
    "        'instance_path': 'small.csv',\n",
    "        'rho': 0.5,\n",
    "        'alpha': 0.5,\n",
    "        'beta': 0.5,\n",
    "    }\n",
    "\n",
    "    \n",
    "    random.seed(42)\n",
    "    for alpha, rho, beta in product(np.arange(0.1, 1, 0.3), np.arange(0.1, 1, 0.3), np.arange(0.1, 1, 0.3)):\n",
    "        wandb.init(\n",
    "            project=\"dynamic aco\",\n",
    "            config={\n",
    "                **config,\n",
    "                'rho': rho,\n",
    "                'alpha': alpha,\n",
    "                'beta': beta,\n",
    "            },\n",
    "            tags=[f'04-06-2023-{path.stem}']\n",
    "        )\n",
    "        # Logic goes here\n",
    "        try:\n",
    "            solver = ACOAlgorithm(**config, scenario_input_file=path)\n",
    "            best_plan, _ = solver.solve()\n",
    "        finally:\n",
    "            wandb.finish()\n"
   ]
  },
  {
   "cell_type": "code",
   "execution_count": 8,
   "metadata": {},
   "outputs": [
    {
     "data": {
      "text/html": [
       "wandb version 0.15.3 is available!  To upgrade, please run:\n",
       " $ pip install wandb --upgrade"
      ],
      "text/plain": [
       "<IPython.core.display.HTML object>"
      ]
     },
     "metadata": {},
     "output_type": "display_data"
    },
    {
     "data": {
      "text/html": [
       "Tracking run with wandb version 0.15.0"
      ],
      "text/plain": [
       "<IPython.core.display.HTML object>"
      ]
     },
     "metadata": {},
     "output_type": "display_data"
    },
    {
     "data": {
      "text/html": [
       "Run data is saved locally in <code>/home/bohdan/studies/sem8/io/wandb/run-20230603_192402-5z57dl5h</code>"
      ],
      "text/plain": [
       "<IPython.core.display.HTML object>"
      ]
     },
     "metadata": {},
     "output_type": "display_data"
    },
    {
     "data": {
      "text/html": [
       "Syncing run <strong><a href='https://wandb.ai/glider-agh/dynamic%20aco/runs/5z57dl5h' target=\"_blank\">smooth-shadow-212</a></strong> to <a href='https://wandb.ai/glider-agh/dynamic%20aco' target=\"_blank\">Weights & Biases</a> (<a href='https://wandb.me/run' target=\"_blank\">docs</a>)<br/>"
      ],
      "text/plain": [
       "<IPython.core.display.HTML object>"
      ]
     },
     "metadata": {},
     "output_type": "display_data"
    },
    {
     "data": {
      "text/html": [
       " View project at <a href='https://wandb.ai/glider-agh/dynamic%20aco' target=\"_blank\">https://wandb.ai/glider-agh/dynamic%20aco</a>"
      ],
      "text/plain": [
       "<IPython.core.display.HTML object>"
      ]
     },
     "metadata": {},
     "output_type": "display_data"
    },
    {
     "data": {
      "text/html": [
       " View run at <a href='https://wandb.ai/glider-agh/dynamic%20aco/runs/5z57dl5h' target=\"_blank\">https://wandb.ai/glider-agh/dynamic%20aco/runs/5z57dl5h</a>"
      ],
      "text/plain": [
       "<IPython.core.display.HTML object>"
      ]
     },
     "metadata": {},
     "output_type": "display_data"
    },
    {
     "name": "stdout",
     "output_type": "stream",
     "text": [
      "Iteration:  1\n",
      "Iteration:  2\n",
      "Iteration:  3\n",
      "Iteration:  4\n",
      "Iteration:  5\n",
      "Iteration:  6\n",
      "Iteration:  7\n",
      "Iteration:  8\n",
      "Iteration:  9\n",
      "Iteration:  10\n",
      "Iteration:  11\n",
      "Iteration:  12\n",
      "Iteration:  13\n",
      "Iteration:  14\n",
      "Iteration:  15\n",
      "Iteration:  16\n",
      "Iteration:  17\n",
      "Iteration:  18\n",
      "Iteration:  19\n",
      "Iteration:  20\n",
      "Iteration:  21\n",
      "Iteration:  22\n",
      "Iteration:  23\n",
      "Iteration:  24\n",
      "Iteration:  25\n",
      "Iteration:  26\n",
      "Iteration:  27\n",
      "Iteration:  28\n",
      "Iteration:  29\n",
      "Iteration:  30\n",
      "Iteration:  31\n",
      "Iteration:  32\n",
      "Iteration:  33\n",
      "Iteration:  34\n",
      "Iteration:  35\n",
      "Iteration:  36\n",
      "Iteration:  37\n",
      "Iteration:  38\n",
      "Iteration:  39\n",
      "Iteration:  40\n",
      "Iteration:  41\n",
      "Iteration:  42\n",
      "Iteration:  43\n",
      "Iteration:  44\n",
      "Iteration:  45\n",
      "Iteration:  46\n",
      "Iteration:  47\n",
      "Iteration:  48\n",
      "Iteration:  49\n",
      "Iteration:  50\n",
      "Iteration:  51\n",
      "Iteration:  52\n",
      "Iteration:  53\n",
      "Iteration:  54\n",
      "Iteration:  55\n",
      "Iteration:  56\n",
      "Iteration:  57\n",
      "Iteration:  58\n",
      "Iteration:  59\n",
      "Iteration:  60\n",
      "Iteration:  61\n",
      "Iteration:  62\n",
      "Iteration:  63\n",
      "Iteration:  64\n",
      "Iteration:  65\n",
      "Iteration:  66\n",
      "Iteration:  67\n",
      "Iteration:  68\n",
      "Iteration:  69\n",
      "Iteration:  70\n",
      "Iteration:  71\n",
      "Iteration:  72\n",
      "Iteration:  73\n",
      "Iteration:  74\n",
      "Iteration:  75\n",
      "Iteration:  76\n",
      "Iteration:  77\n",
      "Iteration:  78\n",
      "Iteration:  79\n",
      "Iteration:  80\n",
      "Iteration:  81\n",
      "Iteration:  82\n",
      "Iteration:  83\n"
     ]
    },
    {
     "data": {
      "text/html": [
       "Waiting for W&B process to finish... <strong style=\"color:green\">(success).</strong>"
      ],
      "text/plain": [
       "<IPython.core.display.HTML object>"
      ]
     },
     "metadata": {},
     "output_type": "display_data"
    },
    {
     "data": {
      "application/vnd.jupyter.widget-view+json": {
       "model_id": "31ce250795c64ae89acd91fa90348b50",
       "version_major": 2,
       "version_minor": 0
      },
      "text/plain": [
       "VBox(children=(Label(value='0.093 MB of 0.093 MB uploaded (0.000 MB deduped)\\r'), FloatProgress(value=1.0, max…"
      ]
     },
     "metadata": {},
     "output_type": "display_data"
    },
    {
     "data": {
      "text/html": [
       "<style>\n",
       "    table.wandb td:nth-child(1) { padding: 0 10px; text-align: left ; width: auto;} td:nth-child(2) {text-align: left ; width: 100%}\n",
       "    .wandb-row { display: flex; flex-direction: row; flex-wrap: wrap; justify-content: flex-start; width: 100% }\n",
       "    .wandb-col { display: flex; flex-direction: column; flex-basis: 100%; flex: 1; padding: 10px; }\n",
       "    </style>\n",
       "<div class=\"wandb-row\"><div class=\"wandb-col\"><h3>Run history:</h3><br/><table class=\"wandb\"><tr><td>attractiveness_dispersion</td><td>▁▅▅▆▆▆▆▇▆▇▇▆▇▆▇▇▆▆▆▆▆▆▇▆▆▇▆▇▆▆▆▆▇▇▆█▇█▆▇</td></tr><tr><td>attractiveness_ratio</td><td>▇▅▁▃▃▅███▆▆▆▇▃▇▇▆▆▆▃▆▆▃▆▇█▅▆▆▇▇▄▆▆▅▃▇▇▄▅</td></tr><tr><td>best_fitness</td><td>█▆▆▆▅▅▃▃▃▃▃▃▃▃▃▁▁▁▁▁▁▁▁▁▁▁▁▁▁▁▁▁▁▁▁▁▁▁▁▁</td></tr><tr><td>fitness</td><td>█▆█▇▇▅▃▄▄▅▄▄▃▅▃▁▅▅▃▄▅▄▅▄▄▃▆▃▄▄▃▅▅▅▆▄▂▄▅▄</td></tr><tr><td>overall_demand</td><td>▁▁▁▁▁▁▁▁▁▁▁▁▁▁▁▁▁▁▁▁▁▁▁▁▁███████████████</td></tr><tr><td>pheromone_ratio</td><td>▂▁▄▄▅▄▅▅▆▅▆▆▄▆▅▅▆█▇▆▆▆▆███▆▇▅██▇▇▅▆▅▆▆█▇</td></tr></table><br/></div><div class=\"wandb-col\"><h3>Run summary:</h3><br/><table class=\"wandb\"><tr><td>attractiveness_dispersion</td><td>4.59756</td></tr><tr><td>attractiveness_ratio</td><td>-1.25006</td></tr><tr><td>best_fitness</td><td>557.20955</td></tr><tr><td>fitness</td><td>687.20087</td></tr><tr><td>overall_demand</td><td>630.0</td></tr><tr><td>pheromone_ratio</td><td>0.10252</td></tr></table><br/></div></div>"
      ],
      "text/plain": [
       "<IPython.core.display.HTML object>"
      ]
     },
     "metadata": {},
     "output_type": "display_data"
    },
    {
     "data": {
      "text/html": [
       " View run <strong style=\"color:#cdcd00\">smooth-shadow-212</strong> at: <a href='https://wandb.ai/glider-agh/dynamic%20aco/runs/5z57dl5h' target=\"_blank\">https://wandb.ai/glider-agh/dynamic%20aco/runs/5z57dl5h</a><br/>Synced 6 W&B file(s), 8 media file(s), 0 artifact file(s) and 0 other file(s)"
      ],
      "text/plain": [
       "<IPython.core.display.HTML object>"
      ]
     },
     "metadata": {},
     "output_type": "display_data"
    },
    {
     "data": {
      "text/html": [
       "Find logs at: <code>./wandb/run-20230603_192402-5z57dl5h/logs</code>"
      ],
      "text/plain": [
       "<IPython.core.display.HTML object>"
      ]
     },
     "metadata": {},
     "output_type": "display_data"
    },
    {
     "ename": "KeyboardInterrupt",
     "evalue": "",
     "output_type": "error",
     "traceback": [
      "\u001b[0;31m---------------------------------------------------------------------------\u001b[0m",
      "\u001b[0;31mKeyboardInterrupt\u001b[0m                         Traceback (most recent call last)",
      "Cell \u001b[0;32mIn[8], line 2\u001b[0m\n\u001b[1;32m      1\u001b[0m \u001b[39mfor\u001b[39;00m scenario \u001b[39min\u001b[39;00m [\u001b[39m'\u001b[39m\u001b[39mscenario_mix.csv\u001b[39m\u001b[39m'\u001b[39m, \u001b[39m'\u001b[39m\u001b[39mscenario_decrease.csv\u001b[39m\u001b[39m'\u001b[39m]:\n\u001b[0;32m----> 2\u001b[0m     evaluate_scenario(Path(scenario))\n",
      "Cell \u001b[0;32mIn[7], line 38\u001b[0m, in \u001b[0;36mevaluate_scenario\u001b[0;34m(path)\u001b[0m\n\u001b[1;32m     36\u001b[0m \u001b[39mtry\u001b[39;00m:\n\u001b[1;32m     37\u001b[0m     solver \u001b[39m=\u001b[39m ACOAlgorithm(\u001b[39m*\u001b[39m\u001b[39m*\u001b[39mconfig, scenario_input_file\u001b[39m=\u001b[39mpath)\n\u001b[0;32m---> 38\u001b[0m     best_plan, _ \u001b[39m=\u001b[39m solver\u001b[39m.\u001b[39;49msolve()\n\u001b[1;32m     39\u001b[0m \u001b[39mfinally\u001b[39;00m:\n\u001b[1;32m     40\u001b[0m     wandb\u001b[39m.\u001b[39mfinish()\n",
      "File \u001b[0;32m~/studies/sem8/io/swarmlib_/aco4tsp/aco_algorithm.py:108\u001b[0m, in \u001b[0;36mACOAlgorithm.solve\u001b[0;34m(self)\u001b[0m\n\u001b[1;32m    104\u001b[0m     \u001b[39mif\u001b[39;00m change:\n\u001b[1;32m    105\u001b[0m         logger\u001b[39m.\u001b[39mdebug(\n\u001b[1;32m    106\u001b[0m             \u001b[39mf\u001b[39m\u001b[39m'\u001b[39m\u001b[39m[\u001b[39m\u001b[39m{\u001b[39;00mchange\u001b[39m.\u001b[39mtype\u001b[39m}\u001b[39;00m\u001b[39m] [\u001b[39m\u001b[39m{\u001b[39;00mchange\u001b[39m.\u001b[39mfrom_node\u001b[39m}\u001b[39;00m\u001b[39m] -> [\u001b[39m\u001b[39m{\u001b[39;00mchange\u001b[39m.\u001b[39mto_node\u001b[39m}\u001b[39;00m\u001b[39m]\u001b[39m\u001b[39m'\u001b[39m)\n\u001b[0;32m--> 108\u001b[0m     \u001b[39mself\u001b[39;49m\u001b[39m.\u001b[39;49mlog_iteration(best_vehicle_paths)\n\u001b[1;32m    110\u001b[0m logger\u001b[39m.\u001b[39minfo(\u001b[39mf\u001b[39m\u001b[39m'\u001b[39m\u001b[39mFinish! Shortest_distance=\u001b[39m\u001b[39m\"\u001b[39m\u001b[39m%s\u001b[39m\u001b[39m\"\u001b[39m\u001b[39m and best_vehicle_paths=\u001b[39m\u001b[39m\"\u001b[39m\u001b[39m%s\u001b[39m\u001b[39m\"\u001b[39m\u001b[39m'\u001b[39m,\n\u001b[1;32m    111\u001b[0m             shortest_distance, best_vehicle_paths)\n\u001b[1;32m    112\u001b[0m \u001b[39mself\u001b[39m\u001b[39m.\u001b[39m_env\u001b[39m.\u001b[39mprepare_scenario_file()\n",
      "File \u001b[0;32m~/studies/sem8/io/swarmlib_/aco4tsp/aco_algorithm.py:121\u001b[0m, in \u001b[0;36mACOAlgorithm.log_iteration\u001b[0;34m(self, best_vehicle_paths)\u001b[0m\n\u001b[1;32m    119\u001b[0m best_fitness \u001b[39m=\u001b[39m \u001b[39mmin\u001b[39m(\u001b[39mself\u001b[39m\u001b[39m.\u001b[39m_best_fitness, fitness)\n\u001b[1;32m    120\u001b[0m \u001b[39mself\u001b[39m\u001b[39m.\u001b[39m_best_fitness \u001b[39m=\u001b[39m best_fitness\n\u001b[0;32m--> 121\u001b[0m pheromone_ratio \u001b[39m=\u001b[39m \u001b[39mself\u001b[39;49m\u001b[39m.\u001b[39;49m_calculate_pheromone_ratio()\n\u001b[1;32m    122\u001b[0m attractiveness_dispersion \u001b[39m=\u001b[39m \u001b[39mself\u001b[39m\u001b[39m.\u001b[39m_calculate_attractiveness_dispersion()\n\u001b[1;32m    123\u001b[0m attractiveness_ratio \u001b[39m=\u001b[39m \u001b[39mself\u001b[39m\u001b[39m.\u001b[39m_calculate_attractiveness_ratio(best_vehicle_paths)\n",
      "File \u001b[0;32m~/studies/sem8/io/swarmlib_/aco4tsp/aco_algorithm.py:243\u001b[0m, in \u001b[0;36mACOAlgorithm._calculate_pheromone_ratio\u001b[0;34m(self)\u001b[0m\n\u001b[1;32m    242\u001b[0m \u001b[39mdef\u001b[39;00m \u001b[39m_calculate_pheromone_ratio\u001b[39m(\u001b[39mself\u001b[39m):\n\u001b[0;32m--> 243\u001b[0m     edges \u001b[39m=\u001b[39m \u001b[39mlist\u001b[39;49m(\u001b[39mfilter\u001b[39;49m(\u001b[39mself\u001b[39;49m\u001b[39m.\u001b[39;49m_is_pheromone_level_significant, \u001b[39mself\u001b[39;49m\u001b[39m.\u001b[39;49m_env\u001b[39m.\u001b[39;49m_routes_graph\u001b[39m.\u001b[39;49mget_edges()))\n\u001b[1;32m    244\u001b[0m     \u001b[39mreturn\u001b[39;00m \u001b[39mlen\u001b[39m(edges) \u001b[39m/\u001b[39m \u001b[39mlen\u001b[39m(\u001b[39mself\u001b[39m\u001b[39m.\u001b[39m_env\u001b[39m.\u001b[39m_routes_graph\u001b[39m.\u001b[39mget_edges())\n",
      "File \u001b[0;32m~/studies/sem8/io/swarmlib_/aco4tsp/aco_algorithm.py:238\u001b[0m, in \u001b[0;36mACOAlgorithm._is_pheromone_level_significant\u001b[0;34m(self, edge)\u001b[0m\n\u001b[1;32m    237\u001b[0m \u001b[39mdef\u001b[39;00m \u001b[39m_is_pheromone_level_significant\u001b[39m(\u001b[39mself\u001b[39m, edge):\n\u001b[0;32m--> 238\u001b[0m     \u001b[39mif\u001b[39;00m \u001b[39mself\u001b[39m\u001b[39m.\u001b[39m_env\u001b[39m.\u001b[39m_routes_graph\u001b[39m.\u001b[39mget_edge_pheromone(edge) \u001b[39m>\u001b[39m \u001b[39mself\u001b[39;49m\u001b[39m.\u001b[39;49m_calculate_threshold():\n\u001b[1;32m    239\u001b[0m       \u001b[39mreturn\u001b[39;00m \u001b[39mTrue\u001b[39;00m\n\u001b[1;32m    240\u001b[0m     \u001b[39mreturn\u001b[39;00m \u001b[39mFalse\u001b[39;00m\n",
      "File \u001b[0;32m~/studies/sem8/io/swarmlib_/aco4tsp/aco_algorithm.py:235\u001b[0m, in \u001b[0;36mACOAlgorithm._calculate_threshold\u001b[0;34m(self)\u001b[0m\n\u001b[1;32m    232\u001b[0m \u001b[39mdef\u001b[39;00m \u001b[39m_calculate_threshold\u001b[39m(\u001b[39mself\u001b[39m):\n\u001b[1;32m    233\u001b[0m     \u001b[39m# average pheromone level\u001b[39;00m\n\u001b[1;32m    234\u001b[0m     edges \u001b[39m=\u001b[39m \u001b[39mself\u001b[39m\u001b[39m.\u001b[39m_env\u001b[39m.\u001b[39m_routes_graph\u001b[39m.\u001b[39mget_edges()\n\u001b[0;32m--> 235\u001b[0m     \u001b[39mreturn\u001b[39;00m \u001b[39msum\u001b[39;49m(\u001b[39mself\u001b[39;49m\u001b[39m.\u001b[39;49m_env\u001b[39m.\u001b[39;49m_routes_graph\u001b[39m.\u001b[39;49mget_edge_pheromone(edge) \u001b[39mfor\u001b[39;49;00m edge \u001b[39min\u001b[39;49;00m edges) \u001b[39m/\u001b[39m \u001b[39mlen\u001b[39m(edges)\n",
      "File \u001b[0;32m~/studies/sem8/io/swarmlib_/aco4tsp/aco_algorithm.py:235\u001b[0m, in \u001b[0;36m<genexpr>\u001b[0;34m(.0)\u001b[0m\n\u001b[1;32m    232\u001b[0m \u001b[39mdef\u001b[39;00m \u001b[39m_calculate_threshold\u001b[39m(\u001b[39mself\u001b[39m):\n\u001b[1;32m    233\u001b[0m     \u001b[39m# average pheromone level\u001b[39;00m\n\u001b[1;32m    234\u001b[0m     edges \u001b[39m=\u001b[39m \u001b[39mself\u001b[39m\u001b[39m.\u001b[39m_env\u001b[39m.\u001b[39m_routes_graph\u001b[39m.\u001b[39mget_edges()\n\u001b[0;32m--> 235\u001b[0m     \u001b[39mreturn\u001b[39;00m \u001b[39msum\u001b[39m(\u001b[39mself\u001b[39;49m\u001b[39m.\u001b[39;49m_env\u001b[39m.\u001b[39;49m_routes_graph\u001b[39m.\u001b[39;49mget_edge_pheromone(edge) \u001b[39mfor\u001b[39;00m edge \u001b[39min\u001b[39;00m edges) \u001b[39m/\u001b[39m \u001b[39mlen\u001b[39m(edges)\n",
      "File \u001b[0;32m~/studies/sem8/io/swarmlib_/aco4tsp/dynamic_vrp_env/routes_graph.py:123\u001b[0m, in \u001b[0;36mRoutesGraph.get_edge_pheromone\u001b[0;34m(self, edge)\u001b[0m\n\u001b[1;32m    121\u001b[0m \u001b[39mdef\u001b[39;00m \u001b[39mget_edge_pheromone\u001b[39m(\u001b[39mself\u001b[39m, edge: \u001b[39mtuple\u001b[39m[\u001b[39mint\u001b[39m, \u001b[39mint\u001b[39m]):\n\u001b[1;32m    122\u001b[0m \u001b[39m    \u001b[39m\u001b[39m\"\"\"Get the pheromone value for the given edge\"\"\"\u001b[39;00m\n\u001b[0;32m--> 123\u001b[0m     sorted_edge \u001b[39m=\u001b[39m \u001b[39mtuple\u001b[39;49m(\u001b[39msorted\u001b[39m(edge))\n\u001b[1;32m    124\u001b[0m     \u001b[39mreturn\u001b[39;00m \u001b[39mself\u001b[39m\u001b[39m.\u001b[39m__get_edge_data(sorted_edge, \u001b[39m'\u001b[39m\u001b[39mpheromone\u001b[39m\u001b[39m'\u001b[39m)\n",
      "\u001b[0;31mKeyboardInterrupt\u001b[0m: "
     ]
    }
   ],
   "source": [
    "for scenario in ['scenario_mix.csv', 'scenario_decrease.csv']:\n",
    "    evaluate_scenario(Path(scenario))"
   ]
  },
  {
   "cell_type": "markdown",
   "metadata": {},
   "source": []
  }
 ],
 "metadata": {
  "kernelspec": {
   "display_name": "lux_ai",
   "language": "python",
   "name": "python3"
  },
  "language_info": {
   "codemirror_mode": {
    "name": "ipython",
    "version": 3
   },
   "file_extension": ".py",
   "mimetype": "text/x-python",
   "name": "python",
   "nbconvert_exporter": "python",
   "pygments_lexer": "ipython3",
   "version": "3.9.16"
  },
  "orig_nbformat": 4
 },
 "nbformat": 4,
 "nbformat_minor": 2
}
